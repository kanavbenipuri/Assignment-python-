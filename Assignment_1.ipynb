{
  "nbformat": 4,
  "nbformat_minor": 0,
  "metadata": {
    "colab": {
      "provenance": [],
      "toc_visible": true,
      "authorship_tag": "ABX9TyMv6uJZZyrTBfLk7LYy3r32",
      "include_colab_link": true
    },
    "kernelspec": {
      "name": "python3",
      "display_name": "Python 3"
    },
    "language_info": {
      "name": "python"
    }
  },
  "cells": [
    {
      "cell_type": "markdown",
      "metadata": {
        "id": "view-in-github",
        "colab_type": "text"
      },
      "source": [
        "<a href=\"https://colab.research.google.com/github/kanavbenipuri/Assignment-python-/blob/main/Assignment_1.ipynb\" target=\"_parent\"><img src=\"https://colab.research.google.com/assets/colab-badge.svg\" alt=\"Open In Colab\"/></a>"
      ]
    },
    {
      "cell_type": "markdown",
      "source": [
        "#Q1 \n",
        "i)"
      ],
      "metadata": {
        "id": "2io83Cq4BxTv"
      }
    },
    {
      "cell_type": "code",
      "source": [
        "l=[11,12,13,14]\n",
        "l.append(50)\n",
        "l.append(60)\n",
        "print(l)"
      ],
      "metadata": {
        "colab": {
          "base_uri": "https://localhost:8080/"
        },
        "id": "ezlOTsJcB6CB",
        "outputId": "76cbeaaf-e168-4461-97a3-47cce758d32c"
      },
      "execution_count": 4,
      "outputs": [
        {
          "output_type": "stream",
          "name": "stdout",
          "text": [
            "[11, 12, 13, 14, 50, 60]\n"
          ]
        }
      ]
    },
    {
      "cell_type": "markdown",
      "source": [
        "ii)"
      ],
      "metadata": {
        "id": "c0FCTjloFRJl"
      }
    },
    {
      "cell_type": "code",
      "source": [
        "l=[11,12,13,14,50,60]\n",
        "del l[0]\n",
        "del l[1]\n",
        "l"
      ],
      "metadata": {
        "colab": {
          "base_uri": "https://localhost:8080/"
        },
        "id": "0ax9hHzWFuAZ",
        "outputId": "1d604f40-0779-4e45-96bc-6fcd74444eca"
      },
      "execution_count": 16,
      "outputs": [
        {
          "output_type": "execute_result",
          "data": {
            "text/plain": [
              "[12, 14, 50, 60]"
            ]
          },
          "metadata": {},
          "execution_count": 16
        }
      ]
    },
    {
      "cell_type": "markdown",
      "source": [
        "iii)"
      ],
      "metadata": {
        "id": "dsGXv8fEGG29"
      }
    },
    {
      "cell_type": "code",
      "source": [
        "l.sort()\n",
        "l"
      ],
      "metadata": {
        "colab": {
          "base_uri": "https://localhost:8080/"
        },
        "id": "rfGzqhdzGJmm",
        "outputId": "60f138c5-9ede-4173-b2f4-16922678e3c9"
      },
      "execution_count": 17,
      "outputs": [
        {
          "output_type": "execute_result",
          "data": {
            "text/plain": [
              "[12, 14, 50, 60]"
            ]
          },
          "metadata": {},
          "execution_count": 17
        }
      ]
    },
    {
      "cell_type": "markdown",
      "source": [
        "iv)"
      ],
      "metadata": {
        "id": "1vWgFSRkGUus"
      }
    },
    {
      "cell_type": "code",
      "source": [
        "l.sort(reverse=True)\n",
        "l"
      ],
      "metadata": {
        "colab": {
          "base_uri": "https://localhost:8080/"
        },
        "id": "3gAafNxbGWK-",
        "outputId": "98f00684-f813-440d-daab-02fcf1cdcde8"
      },
      "execution_count": 18,
      "outputs": [
        {
          "output_type": "execute_result",
          "data": {
            "text/plain": [
              "[60, 50, 14, 12]"
            ]
          },
          "metadata": {},
          "execution_count": 18
        }
      ]
    },
    {
      "cell_type": "markdown",
      "source": [
        "v)\n"
      ],
      "metadata": {
        "id": "uLhAQWC-Gca6"
      }
    },
    {
      "cell_type": "code",
      "source": [
        "if (13 in l) == True:\n",
        "  print(\"yes\")\n",
        "else: \n",
        "  print(\"no\")"
      ],
      "metadata": {
        "colab": {
          "base_uri": "https://localhost:8080/"
        },
        "id": "RLogfyx5GeMg",
        "outputId": "116d4226-20b4-46d5-a82e-0b927c41ffb5"
      },
      "execution_count": 22,
      "outputs": [
        {
          "output_type": "stream",
          "name": "stdout",
          "text": [
            "no\n"
          ]
        }
      ]
    },
    {
      "cell_type": "markdown",
      "source": [
        "vi)"
      ],
      "metadata": {
        "id": "V_4SP_p8HQgS"
      }
    },
    {
      "cell_type": "code",
      "source": [
        "print(len(l))"
      ],
      "metadata": {
        "colab": {
          "base_uri": "https://localhost:8080/"
        },
        "id": "pKljeB3FHRr_",
        "outputId": "df548d85-98b9-4503-b988-960d5ba51b6d"
      },
      "execution_count": 23,
      "outputs": [
        {
          "output_type": "stream",
          "name": "stdout",
          "text": [
            "4\n"
          ]
        }
      ]
    },
    {
      "cell_type": "markdown",
      "source": [
        "vii)"
      ],
      "metadata": {
        "id": "N-hZd5PUIN39"
      }
    },
    {
      "cell_type": "code",
      "source": [
        "sum(l)"
      ],
      "metadata": {
        "colab": {
          "base_uri": "https://localhost:8080/"
        },
        "id": "OC5TB32bIPOF",
        "outputId": "2de790f9-e5cc-4150-cb2b-c879401391d7"
      },
      "execution_count": 24,
      "outputs": [
        {
          "output_type": "execute_result",
          "data": {
            "text/plain": [
              "136"
            ]
          },
          "metadata": {},
          "execution_count": 24
        }
      ]
    },
    {
      "cell_type": "markdown",
      "source": [
        "viii)"
      ],
      "metadata": {
        "id": "H0GROcKyIbmj"
      }
    },
    {
      "cell_type": "code",
      "source": [
        "a=0\n",
        "sum=0\n",
        "while a<len(l):\n",
        "  if l[a]%2==1:\n",
        "    sum=sum+l[a]\n",
        "  a=a+1\n",
        "sum"
      ],
      "metadata": {
        "colab": {
          "base_uri": "https://localhost:8080/"
        },
        "id": "xJ619Fb3IdT5",
        "outputId": "fecd4c0a-3b9a-41e2-dd25-810a55bbfbb3"
      },
      "execution_count": 26,
      "outputs": [
        {
          "output_type": "execute_result",
          "data": {
            "text/plain": [
              "0"
            ]
          },
          "metadata": {},
          "execution_count": 26
        }
      ]
    },
    {
      "cell_type": "markdown",
      "source": [
        "ix)"
      ],
      "metadata": {
        "id": "vWCCVlB9KY5j"
      }
    },
    {
      "cell_type": "code",
      "source": [
        "a=0\n",
        "sum=0\n",
        "while a<len(l):\n",
        "  if l[a]%2==0:\n",
        "    sum=sum+l[a]\n",
        "  a=a+1\n",
        "sum"
      ],
      "metadata": {
        "colab": {
          "base_uri": "https://localhost:8080/"
        },
        "id": "gieqalGFKbLZ",
        "outputId": "843571b0-e81d-4791-c30d-04f868332a5f"
      },
      "execution_count": 28,
      "outputs": [
        {
          "output_type": "execute_result",
          "data": {
            "text/plain": [
              "136"
            ]
          },
          "metadata": {},
          "execution_count": 28
        }
      ]
    },
    {
      "cell_type": "markdown",
      "source": [
        "x)"
      ],
      "metadata": {
        "id": "nuz-gkCRKlnv"
      }
    },
    {
      "cell_type": "code",
      "source": [
        "i=0\n",
        "sum=0\n",
        "while i<len(l):\n",
        "  k=0\n",
        "  for a in range(2,(l[i]//2+1)):\n",
        "    if l[i]%a==0:\n",
        "      k=1\n",
        "    break \n",
        "  if k==0:\n",
        "    sum=sum+l[i]\n",
        "  i=i+1\n",
        "  \n",
        "sum\n"
      ],
      "metadata": {
        "colab": {
          "base_uri": "https://localhost:8080/"
        },
        "id": "AYjMfoh_Kmjv",
        "outputId": "3db97a76-e6a2-4c16-a230-7b0eff8c96a7"
      },
      "execution_count": 33,
      "outputs": [
        {
          "output_type": "execute_result",
          "data": {
            "text/plain": [
              "0"
            ]
          },
          "metadata": {},
          "execution_count": 33
        }
      ]
    },
    {
      "cell_type": "markdown",
      "source": [
        "xi)"
      ],
      "metadata": {
        "id": "MbP16YSpM4Y8"
      }
    },
    {
      "cell_type": "code",
      "source": [
        "l.clear()\n",
        "l"
      ],
      "metadata": {
        "colab": {
          "base_uri": "https://localhost:8080/"
        },
        "id": "DJhn2xFOM54x",
        "outputId": "156e9eb8-91cd-4a99-8dd0-e32103e9140a"
      },
      "execution_count": 34,
      "outputs": [
        {
          "output_type": "execute_result",
          "data": {
            "text/plain": [
              "[]"
            ]
          },
          "metadata": {},
          "execution_count": 34
        }
      ]
    },
    {
      "cell_type": "markdown",
      "source": [
        "xii)"
      ],
      "metadata": {
        "id": "Dauzzb4cM-tr"
      }
    },
    {
      "cell_type": "code",
      "source": [
        "del l"
      ],
      "metadata": {
        "id": "OpHy8CpMNJ04"
      },
      "execution_count": 35,
      "outputs": []
    },
    {
      "cell_type": "markdown",
      "source": [
        "#Q2\n",
        "i)"
      ],
      "metadata": {
        "id": "It2UhZDsNOYf"
      }
    },
    {
      "cell_type": "code",
      "source": [
        "D={1:5.6,2:7.8,3:6.6,4:8.7,5:7.7}\n",
        "D[8]=8.8\n",
        "D\n"
      ],
      "metadata": {
        "colab": {
          "base_uri": "https://localhost:8080/"
        },
        "id": "SG_27e77NXLU",
        "outputId": "f0eee261-27d6-42f6-9c46-808f81055bce"
      },
      "execution_count": 36,
      "outputs": [
        {
          "output_type": "execute_result",
          "data": {
            "text/plain": [
              "{1: 5.6, 2: 7.8, 3: 6.6, 4: 8.7, 5: 7.7, 8: 8.8}"
            ]
          },
          "metadata": {},
          "execution_count": 36
        }
      ]
    },
    {
      "cell_type": "markdown",
      "source": [
        "ii)\n"
      ],
      "metadata": {
        "id": "6LmcwDSVSXLZ"
      }
    },
    {
      "cell_type": "code",
      "source": [
        "del D[2]\n",
        "D"
      ],
      "metadata": {
        "colab": {
          "base_uri": "https://localhost:8080/"
        },
        "id": "P1-kgZjTSYb_",
        "outputId": "37195676-9666-4d8c-eacd-8f6fe1fce679"
      },
      "execution_count": 37,
      "outputs": [
        {
          "output_type": "execute_result",
          "data": {
            "text/plain": [
              "{1: 5.6, 3: 6.6, 4: 8.7, 5: 7.7, 8: 8.8}"
            ]
          },
          "metadata": {},
          "execution_count": 37
        }
      ]
    },
    {
      "cell_type": "markdown",
      "source": [
        "iii)"
      ],
      "metadata": {
        "id": "emhGD85ET9nI"
      }
    },
    {
      "cell_type": "code",
      "source": [
        "print(6 in D)"
      ],
      "metadata": {
        "colab": {
          "base_uri": "https://localhost:8080/"
        },
        "id": "SE-K9BXZUAAC",
        "outputId": "0c197e42-e715-4106-da64-34932f48b5ef"
      },
      "execution_count": 38,
      "outputs": [
        {
          "output_type": "stream",
          "name": "stdout",
          "text": [
            "False\n"
          ]
        }
      ]
    },
    {
      "cell_type": "markdown",
      "source": [
        "iv)"
      ],
      "metadata": {
        "id": "e8TaB1JRV9SZ"
      }
    },
    {
      "cell_type": "code",
      "source": [
        "print(len(D))"
      ],
      "metadata": {
        "colab": {
          "base_uri": "https://localhost:8080/"
        },
        "id": "thxSj_2GV-Ud",
        "outputId": "1b898afb-9a06-4de5-b2e7-2b13edbceacb"
      },
      "execution_count": 40,
      "outputs": [
        {
          "output_type": "stream",
          "name": "stdout",
          "text": [
            "5\n"
          ]
        }
      ]
    },
    {
      "cell_type": "markdown",
      "source": [
        "v)"
      ],
      "metadata": {
        "id": "1GzOCi5dWFhY"
      }
    },
    {
      "cell_type": "code",
      "source": [
        "D={1: 5.6, 3: 6.6, 4: 8.7, 5: 7.7, 8: 8.8}\n",
        "num=list(D.values())\n",
        "print(sum(num))"
      ],
      "metadata": {
        "colab": {
          "base_uri": "https://localhost:8080/"
        },
        "id": "J_VRHj9UWGCE",
        "outputId": "3775ef8c-25b0-4f7f-d6b6-5c836a35d731"
      },
      "execution_count": 69,
      "outputs": [
        {
          "output_type": "stream",
          "name": "stdout",
          "text": [
            "37.4\n"
          ]
        }
      ]
    },
    {
      "cell_type": "markdown",
      "source": [
        "vi)\n"
      ],
      "metadata": {
        "id": "7TDgkrS9XCNq"
      }
    },
    {
      "cell_type": "code",
      "source": [
        "D[3]=7.1\n",
        "D"
      ],
      "metadata": {
        "colab": {
          "base_uri": "https://localhost:8080/"
        },
        "id": "R94rQju1XDqu",
        "outputId": "055ebd2c-6031-4a91-b1f9-4f4aa733e08c"
      },
      "execution_count": 45,
      "outputs": [
        {
          "output_type": "execute_result",
          "data": {
            "text/plain": [
              "{1: 5.6, 3: 7.1, 4: 8.7, 5: 7.7, 8: 8.8}"
            ]
          },
          "metadata": {},
          "execution_count": 45
        }
      ]
    },
    {
      "cell_type": "markdown",
      "source": [
        "vii)"
      ],
      "metadata": {
        "id": "UhWRzVf7XOqe"
      }
    },
    {
      "cell_type": "code",
      "source": [
        "D.clear()\n",
        "D\n"
      ],
      "metadata": {
        "colab": {
          "base_uri": "https://localhost:8080/"
        },
        "id": "HMvSvKnFXP_B",
        "outputId": "57b7b1c1-e300-4fd2-f629-ddb267563701"
      },
      "execution_count": 46,
      "outputs": [
        {
          "output_type": "execute_result",
          "data": {
            "text/plain": [
              "{}"
            ]
          },
          "metadata": {},
          "execution_count": 46
        }
      ]
    },
    {
      "cell_type": "code",
      "source": [
        "del D"
      ],
      "metadata": {
        "id": "gH0o4wtLXYLe"
      },
      "execution_count": null,
      "outputs": []
    },
    {
      "cell_type": "markdown",
      "source": [
        "#Q3\n",
        "i)"
      ],
      "metadata": {
        "id": "nu-0kBctXY-N"
      }
    },
    {
      "cell_type": "code",
      "source": [
        "S1={10,20,30,40,50,60}\n",
        "S2={40,50,60,70,80,90}\n",
        "S1.add(55)\n",
        "S1.add(66)  \n",
        "S1"
      ],
      "metadata": {
        "colab": {
          "base_uri": "https://localhost:8080/"
        },
        "id": "C3G1t0_OXdPT",
        "outputId": "00acec13-c493-49e9-8b41-062506f12f96"
      },
      "execution_count": 52,
      "outputs": [
        {
          "output_type": "execute_result",
          "data": {
            "text/plain": [
              "{10, 20, 30, 40, 50, 55, 60, 66}"
            ]
          },
          "metadata": {},
          "execution_count": 52
        }
      ]
    },
    {
      "cell_type": "markdown",
      "source": [
        "ii)"
      ],
      "metadata": {
        "id": "0W-PHWkncq8b"
      }
    },
    {
      "cell_type": "code",
      "source": [
        "S1.remove(30)\n",
        "S1.remove(10)\n",
        "S1"
      ],
      "metadata": {
        "colab": {
          "base_uri": "https://localhost:8080/"
        },
        "id": "eGFM6dAFcsSX",
        "outputId": "074bd4be-7842-45fc-8435-e92cf3558f75"
      },
      "execution_count": 56,
      "outputs": [
        {
          "output_type": "execute_result",
          "data": {
            "text/plain": [
              "{20, 40, 50, 55, 60, 66}"
            ]
          },
          "metadata": {},
          "execution_count": 56
        }
      ]
    },
    {
      "cell_type": "markdown",
      "source": [
        "iii)"
      ],
      "metadata": {
        "id": "L9LdbZEXc-3A"
      }
    },
    {
      "cell_type": "code",
      "source": [
        "print(40 in S1)"
      ],
      "metadata": {
        "colab": {
          "base_uri": "https://localhost:8080/"
        },
        "id": "oSgCUoTddMHZ",
        "outputId": "8d765a46-99e5-4899-c17b-d6e983634d04"
      },
      "execution_count": 57,
      "outputs": [
        {
          "output_type": "stream",
          "name": "stdout",
          "text": [
            "True\n"
          ]
        }
      ]
    },
    {
      "cell_type": "markdown",
      "source": [
        "iv)"
      ],
      "metadata": {
        "id": "d50fwhS0djkX"
      }
    },
    {
      "cell_type": "code",
      "source": [
        "print(S1.union(S2))"
      ],
      "metadata": {
        "colab": {
          "base_uri": "https://localhost:8080/"
        },
        "id": "cdIfMTy4dkfK",
        "outputId": "c65de466-33c9-47a5-9388-e723354a0531"
      },
      "execution_count": 58,
      "outputs": [
        {
          "output_type": "stream",
          "name": "stdout",
          "text": [
            "{66, 70, 40, 80, 50, 20, 55, 90, 60}\n"
          ]
        }
      ]
    },
    {
      "cell_type": "markdown",
      "source": [
        "v)"
      ],
      "metadata": {
        "id": "ek471zsnd10d"
      }
    },
    {
      "cell_type": "code",
      "source": [
        "print(S1.intersection(S2))"
      ],
      "metadata": {
        "colab": {
          "base_uri": "https://localhost:8080/"
        },
        "id": "sD8uPj7ad2dD",
        "outputId": "b5749835-021b-4284-b10d-373c7b2b2e87"
      },
      "execution_count": 59,
      "outputs": [
        {
          "output_type": "stream",
          "name": "stdout",
          "text": [
            "{40, 50, 60}\n"
          ]
        }
      ]
    },
    {
      "cell_type": "markdown",
      "source": [
        "vi)"
      ],
      "metadata": {
        "id": "abtUSYbUd-zn"
      }
    },
    {
      "cell_type": "code",
      "source": [
        "print(S1-S2)"
      ],
      "metadata": {
        "colab": {
          "base_uri": "https://localhost:8080/"
        },
        "id": "jdmDmx1yd_7e",
        "outputId": "c1d941e5-512a-4eee-8455-a7ba9e41a494"
      },
      "execution_count": 60,
      "outputs": [
        {
          "output_type": "stream",
          "name": "stdout",
          "text": [
            "{66, 20, 55}\n"
          ]
        }
      ]
    },
    {
      "cell_type": "markdown",
      "source": [
        "#Q4\n",
        "i)"
      ],
      "metadata": {
        "id": "PAaW9GJreHqg"
      }
    },
    {
      "cell_type": "code",
      "source": [
        "import random as r\n",
        "import string as s\n",
        "a=0\n",
        "while a<100:\n",
        "  k=r.sample(s.ascii_letters,r.randint(6,8))\n",
        "  k=\"\".join(k)\n",
        "  print(k)\n",
        "  a=a+1\n"
      ],
      "metadata": {
        "colab": {
          "base_uri": "https://localhost:8080/"
        },
        "id": "_nJBEXbTeKAY",
        "outputId": "ff5dc969-3c6e-49fe-c499-b0dd3080d13e"
      },
      "execution_count": 7,
      "outputs": [
        {
          "output_type": "stream",
          "name": "stdout",
          "text": [
            "cjiMCeNX\n",
            "LesxQqSp\n",
            "sDShQjf\n",
            "fHJFVe\n",
            "sPIrWt\n",
            "NSpGdYoQ\n",
            "zJUwFnH\n",
            "gWGKuJh\n",
            "EvxKyOr\n",
            "WcKTBnqJ\n",
            "TKglZsca\n",
            "eHWMZQOc\n",
            "LRGKqm\n",
            "LngoHlh\n",
            "FqgSiwm\n",
            "sOpadbt\n",
            "iYpOkv\n",
            "dDyFuMGR\n",
            "ehcwUE\n",
            "KPUOxfNt\n",
            "iYlJyXB\n",
            "IYAckmC\n",
            "JhNZsx\n",
            "OLFGKuVw\n",
            "YCOSEPJD\n",
            "TeLZVYG\n",
            "zCbUGH\n",
            "sFLJyorw\n",
            "wbvKiS\n",
            "jICiETX\n",
            "XkmuIC\n",
            "OYUdSQZu\n",
            "qrtXRsN\n",
            "blOsTxzt\n",
            "nfTVFWu\n",
            "vIdwtNoc\n",
            "nIBRjydW\n",
            "hlxZpgA\n",
            "vHkBCWer\n",
            "rDbwfx\n",
            "sCfJyFEm\n",
            "eWqfyLm\n",
            "LvtRFs\n",
            "FObmLtB\n",
            "PbzUrFNy\n",
            "dEsvxIz\n",
            "MjxURDzr\n",
            "fKXPDl\n",
            "nkWShfl\n",
            "KNShgUBO\n",
            "oySGAqHh\n",
            "YnDZMp\n",
            "xuoRtq\n",
            "rgvYdeLh\n",
            "UvPduR\n",
            "SUMHZN\n",
            "dFHCpW\n",
            "hJAeBlD\n",
            "PMKkcUmG\n",
            "ZYNSiHJT\n",
            "TrMNxDY\n",
            "CFYJKyi\n",
            "vzBISfLr\n",
            "SKzUniw\n",
            "oICkgmYX\n",
            "jOVFqM\n",
            "VflpTiYF\n",
            "xDnaqRU\n",
            "xsAdUHeJ\n",
            "MaitJm\n",
            "sDFkxqoM\n",
            "tHnWzaQ\n",
            "yHSCQLB\n",
            "YSoHdWV\n",
            "xhIWTzGK\n",
            "uZBbMo\n",
            "HtSogJCc\n",
            "kLohVXBw\n",
            "nyQWAVm\n",
            "OCXsDHw\n",
            "fjdJvsr\n",
            "Sonhvk\n",
            "GDsmBtrf\n",
            "erbMXU\n",
            "dmcruKF\n",
            "vsSmqrG\n",
            "SbMnhEU\n",
            "ZjkxAM\n",
            "BKTGvS\n",
            "KDkqOl\n",
            "ESAUGXP\n",
            "eluvHk\n",
            "cPfXyo\n",
            "XHuYTx\n",
            "jFHhlqOU\n",
            "IXlBTZ\n",
            "PJCMzj\n",
            "rvJhMdx\n",
            "NgHkCLVJ\n",
            "XEVsJyK\n"
          ]
        }
      ]
    },
    {
      "cell_type": "markdown",
      "source": [
        "ii)"
      ],
      "metadata": {
        "id": "6rRgfCMFkOIB"
      }
    },
    {
      "cell_type": "code",
      "source": [
        "\n",
        "for n in range(600,801):\n",
        "  f=0\n",
        "  for i in range(2,int(n/2+1)):\n",
        "     if n % i == 0:\n",
        "        f=1\n",
        "        break\n",
        "  if f==0:\n",
        "    print(n)"
      ],
      "metadata": {
        "colab": {
          "base_uri": "https://localhost:8080/"
        },
        "id": "O7x6s2CIkPsG",
        "outputId": "869fa1d8-e4e0-4004-a09f-79f543e73ead"
      },
      "execution_count": 17,
      "outputs": [
        {
          "output_type": "stream",
          "name": "stdout",
          "text": [
            "601\n",
            "607\n",
            "613\n",
            "617\n",
            "619\n",
            "631\n",
            "641\n",
            "643\n",
            "647\n",
            "653\n",
            "659\n",
            "661\n",
            "673\n",
            "677\n",
            "683\n",
            "691\n",
            "701\n",
            "709\n",
            "719\n",
            "727\n",
            "733\n",
            "739\n",
            "743\n",
            "751\n",
            "757\n",
            "761\n",
            "769\n",
            "773\n",
            "787\n",
            "797\n"
          ]
        }
      ]
    },
    {
      "cell_type": "markdown",
      "source": [
        "iii)"
      ],
      "metadata": {
        "id": "YC7H5-28xDw_"
      }
    },
    {
      "cell_type": "code",
      "source": [
        "for n in range(100,1001):\n",
        "  if n%7 == 0 and n%9 == 0:\n",
        "    print (n)"
      ],
      "metadata": {
        "colab": {
          "base_uri": "https://localhost:8080/"
        },
        "id": "JbN_L5iKxG8g",
        "outputId": "630bce58-4584-4eef-fd48-06a194c73067"
      },
      "execution_count": 18,
      "outputs": [
        {
          "output_type": "stream",
          "name": "stdout",
          "text": [
            "126\n",
            "189\n",
            "252\n",
            "315\n",
            "378\n",
            "441\n",
            "504\n",
            "567\n",
            "630\n",
            "693\n",
            "756\n",
            "819\n",
            "882\n",
            "945\n"
          ]
        }
      ]
    },
    {
      "cell_type": "markdown",
      "source": [
        "#Q5\n",
        "i)"
      ],
      "metadata": {
        "id": "31cDXPGnxfS5"
      }
    },
    {
      "cell_type": "code",
      "source": [
        "import random as r\n",
        "l1=[r.randint(10,30),r.randint(10,30),r.randint(10,30),r.randint(10,30),r.randint(10,30),r.randint(10,30),r.randint(10,30),r.randint(10,30),r.randint(10,30),r.randint(10,30)]\n",
        "l2=[r.randint(10,30),r.randint(10,30),r.randint(10,30),r.randint(10,30),r.randint(10,30),r.randint(10,30),r.randint(10,30),r.randint(10,30),r.randint(10,30),r.randint(10,30)]\n",
        "print(l1)\n",
        "print(l2)\n",
        "print(list(set(l1).intersection(l2)))"
      ],
      "metadata": {
        "colab": {
          "base_uri": "https://localhost:8080/"
        },
        "id": "8CEwH4g2xiEQ",
        "outputId": "9a2a15b1-9b5c-43da-b289-8f1618847722"
      },
      "execution_count": 30,
      "outputs": [
        {
          "output_type": "stream",
          "name": "stdout",
          "text": [
            "[30, 28, 13, 15, 18, 13, 20, 27, 12, 30]\n",
            "[12, 12, 24, 10, 24, 11, 18, 14, 16, 27]\n",
            "[18, 27, 12]\n"
          ]
        }
      ]
    },
    {
      "cell_type": "markdown",
      "source": [
        "ii)"
      ],
      "metadata": {
        "id": "Xcw3DnTOy7y0"
      }
    },
    {
      "cell_type": "code",
      "source": [
        "k=set(l1).union(l2)-set(l1).intersection(l2)\n",
        "print(list(k))"
      ],
      "metadata": {
        "colab": {
          "base_uri": "https://localhost:8080/"
        },
        "id": "qQoWPnxyy9Zi",
        "outputId": "9d43ea75-2eaa-40c4-9d02-bf1231bcfec6"
      },
      "execution_count": 31,
      "outputs": [
        {
          "output_type": "stream",
          "name": "stdout",
          "text": [
            "[10, 11, 13, 14, 15, 16, 20, 24, 28, 30]\n"
          ]
        }
      ]
    },
    {
      "cell_type": "markdown",
      "source": [
        "iii)"
      ],
      "metadata": {
        "id": "HVZEaLKjzQS8"
      }
    },
    {
      "cell_type": "code",
      "source": [
        "print(min(l1))\n",
        "print(min(l2))"
      ],
      "metadata": {
        "colab": {
          "base_uri": "https://localhost:8080/"
        },
        "id": "o9-akM04zRHr",
        "outputId": "e3243b6c-1edf-463f-b289-0eab67de26d3"
      },
      "execution_count": 33,
      "outputs": [
        {
          "output_type": "stream",
          "name": "stdout",
          "text": [
            "12\n",
            "10\n"
          ]
        }
      ]
    },
    {
      "cell_type": "markdown",
      "source": [
        "iv)"
      ],
      "metadata": {
        "id": "wMw-eD32zphF"
      }
    },
    {
      "cell_type": "code",
      "source": [
        "print(max(l1))\n",
        "print(max(l2))"
      ],
      "metadata": {
        "colab": {
          "base_uri": "https://localhost:8080/"
        },
        "id": "MHCjg6PmzqUx",
        "outputId": "df1bff79-f895-43b0-b47e-4f9820798c47"
      },
      "execution_count": 34,
      "outputs": [
        {
          "output_type": "stream",
          "name": "stdout",
          "text": [
            "30\n",
            "27\n"
          ]
        }
      ]
    },
    {
      "cell_type": "markdown",
      "source": [
        "v)"
      ],
      "metadata": {
        "id": "JZD67iIyzwV7"
      }
    },
    {
      "cell_type": "code",
      "source": [
        "k=sum(l1)+sum(l2)\n",
        "k"
      ],
      "metadata": {
        "colab": {
          "base_uri": "https://localhost:8080/"
        },
        "id": "k2Uu9M7ZzxYB",
        "outputId": "e31a1bcb-02ef-4d84-8c6d-a998ebed7c17"
      },
      "execution_count": 36,
      "outputs": [
        {
          "output_type": "execute_result",
          "data": {
            "text/plain": [
              "374"
            ]
          },
          "metadata": {},
          "execution_count": 36
        }
      ]
    },
    {
      "cell_type": "markdown",
      "source": [
        "#Q6\n",
        "i)\n"
      ],
      "metadata": {
        "id": "LSnkL2q70dGX"
      }
    },
    {
      "cell_type": "code",
      "source": [
        "import random as r\n",
        "s=[]\n",
        "for i in range(0,101):\n",
        "  n=r.randint(100,901)\n",
        "  s.append(n)\n",
        "print(s)\n",
        "for i in range(0, len(s)):\n",
        "  if s[i]%2==1:\n",
        "    print(s[i])"
      ],
      "metadata": {
        "colab": {
          "base_uri": "https://localhost:8080/"
        },
        "id": "ruTkkU5z0lVD",
        "outputId": "01b77c25-b249-4012-ff9f-1d51b7253aa0"
      },
      "execution_count": 50,
      "outputs": [
        {
          "output_type": "stream",
          "name": "stdout",
          "text": [
            "[532, 620, 147, 325, 258, 123, 612, 669, 717, 896, 175, 890, 645, 813, 755, 354, 353, 777, 297, 253, 211, 319, 217, 793, 479, 772, 370, 316, 308, 876, 393, 166, 443, 771, 337, 355, 265, 852, 300, 274, 307, 610, 239, 331, 653, 864, 311, 323, 334, 798, 368, 741, 489, 220, 235, 494, 824, 510, 561, 547, 140, 345, 389, 102, 173, 344, 742, 707, 172, 857, 595, 601, 833, 534, 570, 139, 369, 748, 580, 427, 408, 431, 537, 829, 309, 665, 236, 846, 549, 776, 876, 501, 473, 458, 362, 605, 418, 269, 547, 345, 234]\n",
            "147\n",
            "325\n",
            "123\n",
            "669\n",
            "717\n",
            "175\n",
            "645\n",
            "813\n",
            "755\n",
            "353\n",
            "777\n",
            "297\n",
            "253\n",
            "211\n",
            "319\n",
            "217\n",
            "793\n",
            "479\n",
            "393\n",
            "443\n",
            "771\n",
            "337\n",
            "355\n",
            "265\n",
            "307\n",
            "239\n",
            "331\n",
            "653\n",
            "311\n",
            "323\n",
            "741\n",
            "489\n",
            "235\n",
            "561\n",
            "547\n",
            "345\n",
            "389\n",
            "173\n",
            "707\n",
            "857\n",
            "595\n",
            "601\n",
            "833\n",
            "139\n",
            "369\n",
            "427\n",
            "431\n",
            "537\n",
            "829\n",
            "309\n",
            "665\n",
            "549\n",
            "501\n",
            "473\n",
            "605\n",
            "269\n",
            "547\n",
            "345\n"
          ]
        }
      ]
    },
    {
      "cell_type": "markdown",
      "source": [
        "ii)\n"
      ],
      "metadata": {
        "id": "5_TC1Vax4eIg"
      }
    },
    {
      "cell_type": "code",
      "source": [
        "for i in range(0, len(s)):\n",
        "  if s[i]%2==0:\n",
        "    print(s[i])"
      ],
      "metadata": {
        "colab": {
          "base_uri": "https://localhost:8080/"
        },
        "id": "aT-FTKWa4fPf",
        "outputId": "e55076d3-b6f6-48de-9245-9e0fa1575c1c"
      },
      "execution_count": 51,
      "outputs": [
        {
          "output_type": "stream",
          "name": "stdout",
          "text": [
            "532\n",
            "620\n",
            "258\n",
            "612\n",
            "896\n",
            "890\n",
            "354\n",
            "772\n",
            "370\n",
            "316\n",
            "308\n",
            "876\n",
            "166\n",
            "852\n",
            "300\n",
            "274\n",
            "610\n",
            "864\n",
            "334\n",
            "798\n",
            "368\n",
            "220\n",
            "494\n",
            "824\n",
            "510\n",
            "140\n",
            "102\n",
            "344\n",
            "742\n",
            "172\n",
            "534\n",
            "570\n",
            "748\n",
            "580\n",
            "408\n",
            "236\n",
            "846\n",
            "776\n",
            "876\n",
            "458\n",
            "362\n",
            "418\n",
            "234\n"
          ]
        }
      ]
    },
    {
      "cell_type": "markdown",
      "source": [
        "iii)\n"
      ],
      "metadata": {
        "id": "YqSK7RF14hbY"
      }
    },
    {
      "cell_type": "code",
      "source": [
        "for n in s:\n",
        "  f=0\n",
        "  for i in range(2,int(n/2+1)):\n",
        "     if n % i == 0:\n",
        "        f=1\n",
        "        break\n",
        "  if f==0:\n",
        "    print(n)"
      ],
      "metadata": {
        "colab": {
          "base_uri": "https://localhost:8080/"
        },
        "id": "Y9_Cb12y66hh",
        "outputId": "e15f1c1a-44a0-4480-a2e5-f2af4a3d3de2"
      },
      "execution_count": 53,
      "outputs": [
        {
          "output_type": "stream",
          "name": "stdout",
          "text": [
            "353\n",
            "211\n",
            "479\n",
            "443\n",
            "337\n",
            "307\n",
            "239\n",
            "331\n",
            "653\n",
            "311\n",
            "547\n",
            "389\n",
            "173\n",
            "857\n",
            "601\n",
            "139\n",
            "431\n",
            "829\n",
            "269\n",
            "547\n"
          ]
        }
      ]
    },
    {
      "cell_type": "markdown",
      "source": [
        "#Q7\n",
        "\n",
        "\n"
      ],
      "metadata": {
        "id": "132g6VwN6P20"
      }
    },
    {
      "cell_type": "code",
      "source": [
        "D={1:\"One\",2:\"Two\",3:\"Three\",4:\"Four\",5:\"Five\"}\n",
        "fp=open('test.txt','w')\n",
        "for i in range(1,len(D)+1):\n",
        "  fp.write(D[i]+'\\n')\n",
        "fp.close()"
      ],
      "metadata": {
        "colab": {
          "base_uri": "https://localhost:8080/"
        },
        "id": "iAwp8dVf6S9a",
        "outputId": "a0bded86-a169-4b04-e589-541dd49ad8b3"
      },
      "execution_count": 55,
      "outputs": [
        {
          "output_type": "execute_result",
          "data": {
            "text/plain": [
              "{1: 'One', 2: 'Two', 3: 'Three', 4: 'Four', 5: 'Five'}"
            ]
          },
          "metadata": {},
          "execution_count": 55
        }
      ]
    },
    {
      "cell_type": "code",
      "source": [
        "D={1:\"One\",2:\"Two\",3:\"Three\",4:\"Four\",5:\"Five\"}\n",
        "\n",
        "for i in range(1,len(D)+1):\n",
        "  print(D.key(i)+',')"
      ],
      "metadata": {
        "colab": {
          "base_uri": "https://localhost:8080/",
          "height": 201
        },
        "id": "CDQHBcX1BcG3",
        "outputId": "356cb29f-9959-45cd-a3c2-67f653272c68"
      },
      "execution_count": 64,
      "outputs": [
        {
          "output_type": "error",
          "ename": "AttributeError",
          "evalue": "ignored",
          "traceback": [
            "\u001b[0;31m---------------------------------------------------------------------------\u001b[0m",
            "\u001b[0;31mAttributeError\u001b[0m                            Traceback (most recent call last)",
            "\u001b[0;32m<ipython-input-64-55c3dab44180>\u001b[0m in \u001b[0;36m<cell line: 3>\u001b[0;34m()\u001b[0m\n\u001b[1;32m      2\u001b[0m \u001b[0;34m\u001b[0m\u001b[0m\n\u001b[1;32m      3\u001b[0m \u001b[0;32mfor\u001b[0m \u001b[0mi\u001b[0m \u001b[0;32min\u001b[0m \u001b[0mrange\u001b[0m\u001b[0;34m(\u001b[0m\u001b[0;36m1\u001b[0m\u001b[0;34m,\u001b[0m\u001b[0mlen\u001b[0m\u001b[0;34m(\u001b[0m\u001b[0mD\u001b[0m\u001b[0;34m)\u001b[0m\u001b[0;34m+\u001b[0m\u001b[0;36m1\u001b[0m\u001b[0;34m)\u001b[0m\u001b[0;34m:\u001b[0m\u001b[0;34m\u001b[0m\u001b[0;34m\u001b[0m\u001b[0m\n\u001b[0;32m----> 4\u001b[0;31m   \u001b[0mprint\u001b[0m\u001b[0;34m(\u001b[0m\u001b[0mD\u001b[0m\u001b[0;34m.\u001b[0m\u001b[0mkey\u001b[0m\u001b[0;34m(\u001b[0m\u001b[0mi\u001b[0m\u001b[0;34m)\u001b[0m\u001b[0;34m+\u001b[0m\u001b[0;34m','\u001b[0m\u001b[0;34m)\u001b[0m\u001b[0;34m\u001b[0m\u001b[0;34m\u001b[0m\u001b[0m\n\u001b[0m",
            "\u001b[0;31mAttributeError\u001b[0m: 'dict' object has no attribute 'key'"
          ]
        }
      ]
    },
    {
      "cell_type": "markdown",
      "source": [
        "#Q8"
      ],
      "metadata": {
        "id": "cmuAtvRZESSG"
      }
    },
    {
      "cell_type": "code",
      "source": [
        "L={\"One\",\"Two\",\"Three\",\"Four\",\"Five\"}\n",
        "k=list(L)\n",
        "a=0\n",
        "fp=open('test.txt','w')\n",
        "while a<len(k):\n",
        "  fp.write(k[a]+','+str(len(k[a])))\n",
        "  a=a+1\n",
        "fp.close()"
      ],
      "metadata": {
        "id": "o28oyUPpET2j"
      },
      "execution_count": 9,
      "outputs": []
    },
    {
      "cell_type": "markdown",
      "source": [
        "#Q9"
      ],
      "metadata": {
        "id": "6vSC0NQoDiem"
      }
    },
    {
      "cell_type": "code",
      "source": [
        "import random as r\n",
        "import string as s\n",
        "fp=open('test.txt','w')\n",
        "for i in range(0,101):\n",
        "  a=\"\".join(r.sample(s.ascii_letters, r.randint(10,15)))\n",
        "  fp.write(a)\n",
        "fp.close()"
      ],
      "metadata": {
        "id": "kdlVOTBzDjY5"
      },
      "execution_count": 17,
      "outputs": []
    },
    {
      "cell_type": "markdown",
      "source": [
        "#Q10"
      ],
      "metadata": {
        "id": "NZkAfGEbE7l0"
      }
    },
    {
      "cell_type": "code",
      "source": [
        "fp=open('test.txt','w')\n",
        "\n",
        "for n in range(600,801):\n",
        "  f=0\n",
        "  for i in range(2,int(n/2+1)):\n",
        "     if n % i == 0:\n",
        "        f=1\n",
        "        break\n",
        "  if f==0:\n",
        "    fp.write(str(n))\n",
        "fp.close()"
      ],
      "metadata": {
        "id": "IObonW2ME9eS"
      },
      "execution_count": 26,
      "outputs": []
    },
    {
      "cell_type": "markdown",
      "source": [
        "#Q11"
      ],
      "metadata": {
        "id": "AXnauNxCKXvo"
      }
    },
    {
      "cell_type": "code",
      "source": [
        "import timeit as t\n",
        "t.timeit('\"-\".join(str(n) for n in range(100))', number=10000)"
      ],
      "metadata": {
        "colab": {
          "base_uri": "https://localhost:8080/"
        },
        "id": "p4bd-ul5KZd8",
        "outputId": "fe469943-d36b-42ef-9b8d-9a957c45490a"
      },
      "execution_count": 27,
      "outputs": [
        {
          "output_type": "execute_result",
          "data": {
            "text/plain": [
              "0.17865301900019404"
            ]
          },
          "metadata": {},
          "execution_count": 27
        }
      ]
    },
    {
      "cell_type": "markdown",
      "source": [
        "#Q12\n"
      ],
      "metadata": {
        "id": "jSeg9DqRP_ri"
      }
    },
    {
      "cell_type": "code",
      "source": [
        "import random as r\n",
        "import timeit as t\n",
        "s=[]\n",
        "for i in range(0,5001):\n",
        "  n=r.random()\n",
        "  s.append(n)\n",
        "print(t.timeit())\n",
        "print(s.sort())\n",
        "print(t.timeit())"
      ],
      "metadata": {
        "colab": {
          "base_uri": "https://localhost:8080/"
        },
        "id": "h9BJla-tQBIt",
        "outputId": "23fe87fc-5607-4e0a-f9ad-48da79469a0e"
      },
      "execution_count": 33,
      "outputs": [
        {
          "output_type": "stream",
          "name": "stdout",
          "text": [
            "0.020931963000293763\n",
            "None\n",
            "0.011169561999849975\n"
          ]
        }
      ]
    },
    {
      "cell_type": "markdown",
      "source": [
        "#Q13"
      ],
      "metadata": {
        "id": "UXorzTeoRdAf"
      }
    },
    {
      "cell_type": "code",
      "source": [
        "D={\n",
        "    kanav:[75,70,74,43,45]\n",
        "  aeafdg:[12,45,64,34,67]\n",
        "   nfh:[53,67,74,35,34]\n",
        "   uetr:[87,56,45,37,39]\n",
        "   srt:[92,84,43,23,45]\n",
        "   }\n"
      ],
      "metadata": {
        "colab": {
          "base_uri": "https://localhost:8080/",
          "height": 131
        },
        "id": "FPoEdSqPRfpc",
        "outputId": "d5c5384f-2d2a-4e84-8a39-7a3baa45a345"
      },
      "execution_count": 3,
      "outputs": [
        {
          "output_type": "error",
          "ename": "SyntaxError",
          "evalue": "ignored",
          "traceback": [
            "\u001b[0;36m  File \u001b[0;32m\"<ipython-input-3-84338ce2fe36>\"\u001b[0;36m, line \u001b[0;32m2\u001b[0m\n\u001b[0;31m    kanav:[,75,70,74,43,45]\u001b[0m\n\u001b[0m           ^\u001b[0m\n\u001b[0;31mSyntaxError\u001b[0m\u001b[0;31m:\u001b[0m invalid syntax\n"
          ]
        }
      ]
    },
    {
      "cell_type": "code",
      "source": [],
      "metadata": {
        "colab": {
          "base_uri": "https://localhost:8080/",
          "height": 183
        },
        "id": "HHJuEPZFs_jG",
        "outputId": "d4836f30-42a3-41c7-abd0-6a3b3458b06f"
      },
      "execution_count": 1,
      "outputs": [
        {
          "output_type": "error",
          "ename": "NameError",
          "evalue": "ignored",
          "traceback": [
            "\u001b[0;31m---------------------------------------------------------------------------\u001b[0m",
            "\u001b[0;31mNameError\u001b[0m                                 Traceback (most recent call last)",
            "\u001b[0;32m<ipython-input-1-3dc640fd638a>\u001b[0m in \u001b[0;36m<cell line: 1>\u001b[0;34m()\u001b[0m\n\u001b[0;32m----> 1\u001b[0;31m \u001b[0md\u001b[0m\u001b[0;34m=\u001b[0m\u001b[0;34m{\u001b[0m\u001b[0mk\u001b[0m\u001b[0;34m:\u001b[0m\u001b[0;34m[\u001b[0m\u001b[0;36m75\u001b[0m\u001b[0;34m,\u001b[0m\u001b[0;36m70\u001b[0m\u001b[0;34m,\u001b[0m\u001b[0;36m74\u001b[0m\u001b[0;34m,\u001b[0m\u001b[0;36m43\u001b[0m\u001b[0;34m,\u001b[0m\u001b[0;36m45\u001b[0m\u001b[0;34m]\u001b[0m\u001b[0;34m}\u001b[0m\u001b[0;34m\u001b[0m\u001b[0;34m\u001b[0m\u001b[0m\n\u001b[0m\u001b[1;32m      2\u001b[0m \u001b[0mprint\u001b[0m\u001b[0;34m(\u001b[0m\u001b[0md\u001b[0m\u001b[0;34m[\u001b[0m\u001b[0mk\u001b[0m\u001b[0;34m]\u001b[0m\u001b[0;34m.\u001b[0m\u001b[0mvalues\u001b[0m\u001b[0;34m(\u001b[0m\u001b[0;34m)\u001b[0m\u001b[0;34m)\u001b[0m\u001b[0;34m\u001b[0m\u001b[0;34m\u001b[0m\u001b[0m\n",
            "\u001b[0;31mNameError\u001b[0m: name 'k' is not defined"
          ]
        }
      ]
    }
  ]
}